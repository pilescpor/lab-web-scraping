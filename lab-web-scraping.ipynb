{
  "cells": [
    {
      "cell_type": "markdown",
      "id": "7e7a1ab8-2599-417d-9a65-25ef07f3a786",
      "metadata": {
        "id": "7e7a1ab8-2599-417d-9a65-25ef07f3a786"
      },
      "source": [
        "# Lab | Web Scraping"
      ]
    },
    {
      "cell_type": "markdown",
      "id": "ce8882fc-4815-4567-92fa-b4816358ba7d",
      "metadata": {
        "id": "ce8882fc-4815-4567-92fa-b4816358ba7d"
      },
      "source": [
        "Welcome to the \"Books to Scrape\" Web Scraping Adventure Lab!\n",
        "\n",
        "**Objective**\n",
        "\n",
        "In this lab, we will embark on a mission to unearth valuable insights from the data available on Books to Scrape, an online platform showcasing a wide variety of books. As data analyst, you have been tasked with scraping a specific subset of book data from Books to Scrape to assist publishing companies in understanding the landscape of highly-rated books across different genres. Your insights will help shape future book marketing strategies and publishing decisions.\n",
        "\n",
        "**Background**\n",
        "\n",
        "In a world where data has become the new currency, businesses are leveraging big data to make informed decisions that drive success and profitability. The publishing industry, much like others, utilizes data analytics to understand market trends, reader preferences, and the performance of books based on factors such as genre, author, and ratings. Books to Scrape serves as a rich source of such data, offering detailed information about a diverse range of books, making it an ideal platform for extracting insights to aid in informed decision-making within the literary world.\n",
        "\n",
        "**Task**\n",
        "\n",
        "Your task is to create a Python script using BeautifulSoup and pandas to scrape Books to Scrape book data, focusing on book ratings and genres. The script should be able to filter books with ratings above a certain threshold and in specific genres. Additionally, the script should structure the scraped data in a tabular format using pandas for further analysis.\n",
        "\n",
        "**Expected Outcome**\n",
        "\n",
        "A function named `scrape_books` that takes two parameters: `min_rating` and `max_price`. The function should scrape book data from the \"Books to Scrape\" website and return a `pandas` DataFrame with the following columns:\n",
        "\n",
        "**Expected Outcome**\n",
        "\n",
        "- A function named `scrape_books` that takes two parameters: `min_rating` and `max_price`.\n",
        "- The function should return a DataFrame with the following columns:\n",
        "  - **UPC**: The Universal Product Code (UPC) of the book.\n",
        "  - **Title**: The title of the book.\n",
        "  - **Price (£)**: The price of the book in pounds.\n",
        "  - **Rating**: The rating of the book (1-5 stars).\n",
        "  - **Genre**: The genre of the book.\n",
        "  - **Availability**: Whether the book is in stock or not.\n",
        "  - **Description**: A brief description or product description of the book (if available).\n",
        "  \n",
        "You will execute this script to scrape data for books with a minimum rating of `4.0 and above` and a maximum price of `£20`. \n",
        "\n",
        "Remember to experiment with different ratings and prices to ensure your code is versatile and can handle various searches effectively!\n",
        "\n",
        "**Resources**\n",
        "\n",
        "- [Beautiful Soup Documentation](https://www.crummy.com/software/BeautifulSoup/bs4/doc/)\n",
        "- [Pandas Documentation](https://pandas.pydata.org/pandas-docs/stable/index.html)\n",
        "- [Books to Scrape](https://books.toscrape.com/)\n"
      ]
    },
    {
      "cell_type": "markdown",
      "id": "3519921d-5890-445b-9a33-934ed8ee378c",
      "metadata": {
        "id": "3519921d-5890-445b-9a33-934ed8ee378c"
      },
      "source": [
        "**Hint**\n",
        "\n",
        "Your first mission is to familiarize yourself with the **Books to Scrape** website. Navigate to [Books to Scrape](http://books.toscrape.com/) and explore the available books to understand their layout and structure. \n",
        "\n",
        "Next, think about how you can set parameters for your data extraction:\n",
        "\n",
        "- **Minimum Rating**: Focus on books with a rating of 4.0 and above.\n",
        "- **Maximum Price**: Filter for books priced up to £20.\n",
        "\n",
        "After reviewing the site, you can construct a plan for scraping relevant data. Pay attention to the details displayed for each book, including the title, price, rating, and availability. This will help you identify the correct HTML elements to target with your scraping script.\n",
        "\n",
        "Make sure to build your scraping URL and logic based on the patterns you observe in the HTML structure of the book listings!"
      ]
    },
    {
      "cell_type": "markdown",
      "id": "25a83a0d-a742-49f6-985e-e27887cbf922",
      "metadata": {
        "id": "25a83a0d-a742-49f6-985e-e27887cbf922"
      },
      "source": [
        "\n",
        "---\n",
        "\n",
        "**Best of luck! Immerse yourself in the world of books, and may the data be with you!**"
      ]
    },
    {
      "cell_type": "markdown",
      "id": "7b75cf0d-9afa-4eec-a9e2-befeac68b2a0",
      "metadata": {
        "id": "7b75cf0d-9afa-4eec-a9e2-befeac68b2a0"
      },
      "source": [
        "**Important Note**:\n",
        "\n",
        "In the fast-changing online world, websites often update and change their structures. When you try this lab, the **Books to Scrape** website might differ from what you expect.\n",
        "\n",
        "If you encounter issues due to these changes, like new rules or obstacles preventing data extraction, don’t worry! Get creative.\n",
        "\n",
        "You can choose another website that interests you and is suitable for scraping data. Options like Wikipedia, The New York Times, or even library databases are great alternatives. The main goal remains the same: extract useful data and enhance your web scraping skills while exploring a source of information you enjoy. This is your opportunity to practice and adapt to different web environments!"
      ]
    },
    {
      "cell_type": "code",
      "execution_count": 77,
      "id": "78ad2398",
      "metadata": {},
      "outputs": [],
      "source": [
        "import pandas as pd\n",
        "import requests\n",
        "from bs4 import BeautifulSoup\n",
        "import urllib.parse\n",
        "\n",
        "url = \"https://books.toscrape.com/catalogue/category/books/romance_8/index.html\" \n",
        "response = requests.get(url)\n",
        "soup = BeautifulSoup(response.content, \"html.parser\")"
      ]
    },
    {
      "cell_type": "code",
      "execution_count": 78,
      "id": "40359eee-9cd7-4884-bfa4-83344c222305",
      "metadata": {
        "id": "40359eee-9cd7-4884-bfa4-83344c222305"
      },
      "outputs": [
        {
          "data": {
            "text/html": [
              "<div>\n",
              "<style>\n",
              "    .dataframe thead tr:only-child th {\n",
              "        text-align: right;\n",
              "    }\n",
              "\n",
              "    .dataframe thead th {\n",
              "        text-align: left;\n",
              "    }\n",
              "\n",
              "    .dataframe tbody tr th {\n",
              "        vertical-align: top;\n",
              "    }\n",
              "</style>\n",
              "<table border=\"1\" class=\"dataframe\">\n",
              "  <thead>\n",
              "    <tr style=\"text-align: right;\">\n",
              "      <th></th>\n",
              "      <th>Availability</th>\n",
              "      <th>Description</th>\n",
              "      <th>Genre</th>\n",
              "      <th>Price (£)</th>\n",
              "      <th>Rating</th>\n",
              "      <th>Title</th>\n",
              "      <th>UPC</th>\n",
              "    </tr>\n",
              "  </thead>\n",
              "  <tbody>\n",
              "    <tr>\n",
              "      <th>0</th>\n",
              "      <td>In stock (16 available)</td>\n",
              "      <td>Caleb Stone was raised on the Upper East Side,...</td>\n",
              "      <td>Romance</td>\n",
              "      <td>15.97</td>\n",
              "      <td>4</td>\n",
              "      <td>First and First (Five Boroughs #3)</td>\n",
              "      <td>9e28048cea8d41f7</td>\n",
              "    </tr>\n",
              "    <tr>\n",
              "      <th>1</th>\n",
              "      <td>In stock (15 available)</td>\n",
              "      <td>Katy Lewis has it all: a sports reporting job ...</td>\n",
              "      <td>Romance</td>\n",
              "      <td>16.24</td>\n",
              "      <td>4</td>\n",
              "      <td>Something More Than This</td>\n",
              "      <td>ca71e72655bece85</td>\n",
              "    </tr>\n",
              "    <tr>\n",
              "      <th>2</th>\n",
              "      <td>In stock (11 available)</td>\n",
              "      <td>Power, privilege, and the rigid rules of class...</td>\n",
              "      <td>Romance</td>\n",
              "      <td>14.75</td>\n",
              "      <td>5</td>\n",
              "      <td>A Gentleman's Position (Society of Gentlemen #3)</td>\n",
              "      <td>40c4bf520c17de54</td>\n",
              "    </tr>\n",
              "  </tbody>\n",
              "</table>\n",
              "</div>"
            ],
            "text/plain": [
              "              Availability                                        Description  \\\n",
              "0  In stock (16 available)  Caleb Stone was raised on the Upper East Side,...   \n",
              "1  In stock (15 available)  Katy Lewis has it all: a sports reporting job ...   \n",
              "2  In stock (11 available)  Power, privilege, and the rigid rules of class...   \n",
              "\n",
              "     Genre  Price (£)  Rating  \\\n",
              "0  Romance      15.97       4   \n",
              "1  Romance      16.24       4   \n",
              "2  Romance      14.75       5   \n",
              "\n",
              "                                              Title               UPC  \n",
              "0                First and First (Five Boroughs #3)  9e28048cea8d41f7  \n",
              "1                          Something More Than This  ca71e72655bece85  \n",
              "2  A Gentleman's Position (Society of Gentlemen #3)  40c4bf520c17de54  "
            ]
          },
          "execution_count": 78,
          "metadata": {},
          "output_type": "execute_result"
        }
      ],
      "source": [
        "def scrape_books(min_rating: int, max_price: float):\n",
        "    upc1 = []\n",
        "    title1= []\n",
        "    price1 = []\n",
        "    rating1 = []\n",
        "    genre1 = []\n",
        "    availability1 = []\n",
        "    description1 = []\n",
        "    components = soup.find_all('article', class_=\"product_pod\")\n",
        "    genre = soup.find('h1').text\n",
        "    for component in components:\n",
        "        path = component.find(\"a\").attrs['href']\n",
        "        product_page_url =  urllib.parse.urljoin(url, path)\n",
        "        product_page = requests.get(product_page_url)\n",
        "        product_soup = BeautifulSoup(product_page.content, \"html.parser\")\n",
        "        title = product_soup.find('h1').text.strip()\n",
        "        upc = product_soup.find('th', string=\"UPC\").parent.find(\"td\").text.strip()\n",
        "        price = float(product_soup.find('th', string=\"Price (incl. tax)\").parent.find(\"td\").text.strip().replace(\"£\", \"\"))\n",
        "        rating_name = product_soup.find('p', class_=\"star-rating\").attrs[\"class\"][-1]\n",
        "        rating = int(rating_name.replace(\"One\", \"1\").replace(\"Two\", \"2\").replace(\"Three\", \"3\").replace(\"Four\", \"4\").replace(\"Five\", \"5\"))\n",
        "        availability = product_soup.find('th', string=\"Availability\").parent.find(\"td\").text.strip()\n",
        "        description = product_soup.find('div', id=\"product_description\").find_next_sibling('p').text\n",
        "        if rating >= min_rating and price <= max_price:\n",
        "            upc1.append(upc)\n",
        "            title1.append(title)\n",
        "            price1.append(price)\n",
        "            rating1.append(rating)\n",
        "            genre1.append(genre)\n",
        "            availability1.append(availability)\n",
        "            description1.append(description)   \n",
        "            \n",
        "\n",
        "    # Create DataFrame\n",
        "    df = pd.DataFrame({\n",
        "        'UPC': upc1,\n",
        "        'Title': title1,\n",
        "        'Price (£)': price1,\n",
        "        'Rating': rating1,\n",
        "        'Genre': genre1,\n",
        "        'Availability': availability1,\n",
        "        'Description': description1\n",
        "    })\n",
        "\n",
        "    return df\n",
        "\n",
        "scrape_books(4,20)\n"
      ]
    }
  ],
  "metadata": {
    "colab": {
      "provenance": []
    },
    "kernelspec": {
      "display_name": "pilar",
      "language": "python",
      "name": "python3"
    },
    "language_info": {
      "codemirror_mode": {
        "name": "ipython",
        "version": 3
      },
      "file_extension": ".py",
      "mimetype": "text/x-python",
      "name": "python",
      "nbconvert_exporter": "python",
      "pygments_lexer": "ipython3",
      "version": "3.6.2"
    }
  },
  "nbformat": 4,
  "nbformat_minor": 5
}
